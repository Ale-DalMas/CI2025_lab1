{
 "cells": [
  {
   "cell_type": "code",
   "execution_count": null,
   "id": "8db88455",
   "metadata": {},
   "outputs": [],
   "source": [
    "import numpy as np\n",
    "\n",
    "# Problem 3:\n",
    "rng = np.random.default_rng(seed=42)\n",
    "NUM_KNAPSACKS = 100\n",
    "NUM_ITEMS = 5000\n",
    "NUM_DIMENSIONS = 100\n",
    "VALUES = rng.integers(0, 1000, size=NUM_ITEMS)\n",
    "WEIGHTS = rng.integers(0, 1000, size=(NUM_ITEMS, NUM_DIMENSIONS))\n",
    "CONSTRAINTS = rng.integers(1000 * 10, 1000 * 2 * NUM_ITEMS // NUM_KNAPSACKS, size = (NUM_KNAPSACKS , NUM_DIMENSIONS))\n"
   ]
  },
  {
   "cell_type": "code",
   "execution_count": 50,
   "id": "548ee7d0",
   "metadata": {},
   "outputs": [],
   "source": [
    "def check_solution(solution):\n",
    "    for k in range(NUM_KNAPSACKS):\n",
    "        for d in range(NUM_DIMENSIONS):\n",
    "            total_weight = sum(WEIGHTS[i][d] for i in range(NUM_ITEMS) if solution[i] == k)\n",
    "            if total_weight > CONSTRAINTS[k][d]:\n",
    "                overflow_errors[k] = 1\n",
    "                return False\n",
    "            else:\n",
    "                overflow_errors[k] = 0\n",
    "    return True\n",
    "\n",
    "def evaluate_solution(solution):\n",
    "    if not check_solution(solution):\n",
    "        return -1  # Invalid solution\n",
    "    total_value = sum(VALUES[i] for i in range(NUM_ITEMS) if solution[i] != -1)\n",
    "    return total_value\n",
    "\n",
    "def tweak(solution):\n",
    "    for i in range (NUM_KNAPSACKS):\n",
    "        if overflow_errors[i] == 1:\n",
    "            taken_item = [idx for idx, val in enumerate(solution) if val == i]\n",
    "            if taken_item:\n",
    "                item_to_remove = np.random.choice(taken_item)\n",
    "                solution[item_to_remove] = -1  # Remove the item from the knapsack\n",
    "                taken_item.remove(item_to_remove)\n",
    "            if taken_item:\n",
    "                item_to_remove = np.random.choice(taken_item)\n",
    "                solution[item_to_remove] = -1  # Remove the item from the knapsack\n",
    "        else:\n",
    "            free_item = [idx for idx, val in enumerate(solution) if val == -1]\n",
    "            if free_item:\n",
    "                item_to_add = np.random.choice(free_item)\n",
    "                solution[item_to_add] = i  # Add the item to the knapsack\n",
    "                free_item.remove(item_to_add)"
   ]
  },
  {
   "cell_type": "code",
   "execution_count": 52,
   "id": "4b8a63b8",
   "metadata": {},
   "outputs": [
    {
     "name": "stdout",
     "output_type": "stream",
     "text": [
      "New best solution with value 49752: [-1 -1 -1 ... -1 -1 -1]\n",
      "New best solution with value 99965: [-1 -1 -1 ... -1 -1 -1]\n",
      "New best solution with value 145386: [-1 -1 -1 ... -1 -1 -1]\n",
      "New best solution with value 194304: [-1 -1 -1 ... -1 -1 -1]\n",
      "New best solution with value 242362: [-1 -1 -1 ... -1 -1 -1]\n",
      "New best solution with value 296471: [-1 -1 -1 ... -1 -1 32]\n",
      "New best solution with value 342836: [-1 -1 -1 ... -1 -1 32]\n",
      "New best solution with value 391490: [-1 -1 -1 ... -1 -1 32]\n",
      "New best solution with value 441636: [-1 -1 -1 ... -1 -1 32]\n",
      "New best solution with value 488688: [-1 -1 -1 ... -1 -1 32]\n",
      "New best solution with value 536444: [-1 -1 -1 ... -1 -1 32]\n",
      "New best solution with value 589761: [-1 -1 -1 ... -1 -1 32]\n",
      "New best solution with value 641996: [-1 -1 -1 ... -1 -1 32]\n",
      "New best solution with value 692027: [-1 -1 -1 ... -1 -1 32]\n",
      "New best solution with value 743285: [-1 -1 -1 ... -1 -1 32]\n"
     ]
    }
   ],
   "source": [
    "current_solution = np.full(NUM_ITEMS, -1)\n",
    "current_best = -1\n",
    "overflow_errors = np.zeros(NUM_KNAPSACKS, dtype=int)\n",
    "MAX_ITER_2= 200\n",
    "\n",
    "for _ in range(MAX_ITER_2):\n",
    "    # Generate a random solution\n",
    "    tweak(current_solution)\n",
    "    value = evaluate_solution(current_solution)\n",
    "    if value > current_best:\n",
    "        current_best = value\n",
    "        print(f\"New best solution with value {current_best}: {current_solution}\")"
   ]
  }
 ],
 "metadata": {
  "kernelspec": {
   "display_name": "mla_env",
   "language": "python",
   "name": "python3"
  },
  "language_info": {
   "codemirror_mode": {
    "name": "ipython",
    "version": 3
   },
   "file_extension": ".py",
   "mimetype": "text/x-python",
   "name": "python",
   "nbconvert_exporter": "python",
   "pygments_lexer": "ipython3",
   "version": "3.11.13"
  }
 },
 "nbformat": 4,
 "nbformat_minor": 5
}
