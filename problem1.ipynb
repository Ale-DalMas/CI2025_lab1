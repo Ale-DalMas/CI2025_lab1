{
 "cells": [
  {
   "cell_type": "code",
   "execution_count": 205,
   "id": "e0b3f8d2",
   "metadata": {},
   "outputs": [],
   "source": [
    "import numpy as np"
   ]
  },
  {
   "cell_type": "code",
   "execution_count": 206,
   "id": "f5c933c1",
   "metadata": {},
   "outputs": [],
   "source": [
    "# Problem 1:\n",
    "rng = np.random.default_rng(seed=42)\n",
    "NUM_KNAPSACKS = 3\n",
    "NUM_ITEMS = 20\n",
    "NUM_DIMENSIONS = 2\n",
    "VALUES = np.random.randint(0, 100, size=NUM_ITEMS)\n",
    "WEIGHTS = np.random.randint(0, 100, size=(NUM_ITEMS, NUM_DIMENSIONS))\n",
    "CONSTRAINTS = np.random.randint(0, 100 * NUM_ITEMS // NUM_KNAPSACKS, size= (NUM_KNAPSACKS , NUM_DIMENSIONS))"
   ]
  },
  {
   "cell_type": "code",
   "execution_count": 207,
   "id": "8973af56",
   "metadata": {},
   "outputs": [],
   "source": [
    "##solution: vec[NUM_ITEMS] where vec[i] = knapsack assigned to item i, or -1 if not assigned\n",
    "overflow_errors = np.zeros(NUM_KNAPSACKS, dtype=int)\n",
    "def check_solution(solution):\n",
    "    for k in range(NUM_KNAPSACKS):\n",
    "        for d in range(NUM_DIMENSIONS):\n",
    "            total_weight = sum(WEIGHTS[i][d] for i in range(NUM_ITEMS) if solution[i] == k)\n",
    "            if total_weight > CONSTRAINTS[k][d]:\n",
    "                overflow_errors[k] = 1\n",
    "                return False\n",
    "            else:\n",
    "                overflow_errors[k] = 0\n",
    "    return True"
   ]
  },
  {
   "cell_type": "code",
   "execution_count": 209,
   "id": "f590edef",
   "metadata": {},
   "outputs": [],
   "source": [
    "##solution: vec[NUM_ITEMS] where vec[i] = knapsack assigned to item i, or -1 if not assigned\n",
    "\n",
    "#We are calculating the total value of the items in the knapsacks if the solution is valid\n",
    "def evaluate_solution(solution):\n",
    "    if not check_solution(solution):\n",
    "        return -1  # Invalid solution\n",
    "    total_value = sum(VALUES[i] for i in range(NUM_ITEMS) if solution[i] != -1)\n",
    "    return total_value"
   ]
  },
  {
   "cell_type": "code",
   "execution_count": null,
   "id": "79bbaad7",
   "metadata": {},
   "outputs": [],
   "source": [
    "#if a backpack is overflowing, we remove a random item from it\n",
    "#if a backpack is not overflowing, we add a random item to it\n",
    "def tweak(solution):\n",
    "    for i in range (NUM_KNAPSACKS):\n",
    "        if overflow_errors[i] == 1:\n",
    "            taken_item = [idx for idx, val in enumerate(solution) if val == i]\n",
    "            if taken_item:\n",
    "                item_to_remove = np.random.choice(taken_item)\n",
    "                solution[item_to_remove] = -1  # Remove the item from the knapsack\n",
    "        else:\n",
    "            free_item = [idx for idx, val in enumerate(solution) if val == -1]\n",
    "            if free_item:\n",
    "                item_to_add = np.random.choice(free_item)\n",
    "                solution[item_to_add] = i  # Add the item to the knapsack"
   ]
  },
  {
   "cell_type": "code",
   "execution_count": 212,
   "id": "cd0858b0",
   "metadata": {},
   "outputs": [
    {
     "name": "stdout",
     "output_type": "stream",
     "text": [
      "New best solution with value 553: [ 1  0 -1 -1 -1  1 -1 -1  1  0  0 -1 -1  1 -1 -1 -1 -1 -1  1]\n",
      "New best solution with value 727: [ 0  0  2 -1 -1  2 -1 -1  1 -1  0 -1  1  2  1  2 -1 -1 -1 -1]\n",
      "New best solution with value 731: [ 1  2  1  0 -1 -1  1 -1 -1  1  0  0  1  1 -1 -1 -1 -1  1 -1]\n",
      "New best solution with value 741: [-1  1 -1  2 -1  2  0  1  2 -1  0 -1  0  1  1 -1  1 -1 -1 -1]\n",
      "New best solution with value 773: [ 2  0  1 -1 -1  1  1  2 -1 -1 -1 -1  0  1 -1 -1  1  1  2 -1]\n",
      "New best solution with value 828: [-1  1  1  1  1  2  1  2  0  0 -1 -1  1  2 -1 -1  2 -1 -1 -1]\n",
      "New best solution with value 966: [ 1  1  1  0  1 -1 -1  2 -1  0  2 -1  0  1 -1  2  1  0  2 -1]\n"
     ]
    }
   ],
   "source": [
    "current_solution = rng.integers(-1, NUM_KNAPSACKS, size=NUM_ITEMS)  # Initial random solution\n",
    "current_best = evaluate_solution(current_solution)\n",
    "MAX_ITER = 300000\n",
    "\n",
    "for _ in range(MAX_ITER):\n",
    "    # Generate a random solution\n",
    "    tweak(current_solution)\n",
    "    value = evaluate_solution(current_solution)\n",
    "    if value > current_best:\n",
    "        current_best = value\n",
    "        print(f\"New best solution with value {current_best}: {current_solution}\")"
   ]
  }
 ],
 "metadata": {
  "kernelspec": {
   "display_name": "mla_env",
   "language": "python",
   "name": "python3"
  },
  "language_info": {
   "codemirror_mode": {
    "name": "ipython",
    "version": 3
   },
   "file_extension": ".py",
   "mimetype": "text/x-python",
   "name": "python",
   "nbconvert_exporter": "python",
   "pygments_lexer": "ipython3",
   "version": "3.11.13"
  }
 },
 "nbformat": 4,
 "nbformat_minor": 5
}
