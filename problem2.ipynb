{
 "cells": [
  {
   "cell_type": "code",
   "execution_count": null,
   "id": "81425c49",
   "metadata": {},
   "outputs": [],
   "source": [
    "import numpy as np\n",
    "\n",
    "# Problem 2:\n",
    "rng = np.random.default_rng(seed=42)\n",
    "NUM_KNAPSACKS = 10\n",
    "NUM_ITEMS = 100\n",
    "NUM_DIMENSIONS = 10\n",
    "VALUES = rng.integers(0, 1000, size=NUM_ITEMS)\n",
    "WEIGHTS = rng.integers(0, 1000, size=(NUM_ITEMS, NUM_DIMENSIONS))\n",
    "CONSTRAINTS = rng.integers(1000 * 2, 1000 * NUM_ITEMS // NUM_KNAPSACKS, size = (NUM_KNAPSACKS , NUM_DIMENSIONS))\n",
    "\n",
    "##solution: vec[NUM_ITEMS] where vec[i] = knapsack assigned to item i, or -1 if not assigned\n",
    "overflow_errors = np.zeros(NUM_KNAPSACKS, dtype=int)\n",
    "def check_solution(solution):\n",
    "    for k in range(NUM_KNAPSACKS):\n",
    "        for d in range(NUM_DIMENSIONS):\n",
    "            total_weight = sum(WEIGHTS[i][d] for i in range(NUM_ITEMS) if solution[i] == k)\n",
    "            if total_weight > CONSTRAINTS[k][d]:\n",
    "                overflow_errors[k] = 1\n",
    "                return False\n",
    "            else:\n",
    "                overflow_errors[k] = 0\n",
    "    return True\n",
    "\n",
    "##solution: vec[NUM_ITEMS] where vec[i] = knapsack assigned to item i, or -1 if not assigned\n",
    "\n",
    "#We are calculating the total value of the items in the knapsacks if the solution is valid\n",
    "def evaluate_solution(solution):\n",
    "    if not check_solution(solution):\n",
    "        return -1  # Invalid solution\n",
    "    total_value = sum(VALUES[i] for i in range(NUM_ITEMS) if solution[i] != -1)\n",
    "    return total_value\n",
    "\n",
    "#if a backpack is overflowing, we remove a random item from it\n",
    "#if a backpack is not overflowing, we add a random item to it\n",
    "def tweak(solution):\n",
    "    for i in range (NUM_KNAPSACKS):\n",
    "        if overflow_errors[i] == 1:\n",
    "            taken_item = [idx for idx, val in enumerate(solution) if val == i]\n",
    "            if taken_item:\n",
    "                item_to_remove = np.random.choice(taken_item)\n",
    "                solution[item_to_remove] = -1  # Remove the item from the knapsack\n",
    "        else:\n",
    "            free_item = [idx for idx, val in enumerate(solution) if val == -1]\n",
    "            if free_item:\n",
    "                item_to_add = np.random.choice(free_item)\n",
    "                solution[item_to_add] = i  # Add the item to the knapsack"
   ]
  },
  {
   "cell_type": "code",
   "execution_count": 16,
   "id": "ae8d8d19",
   "metadata": {},
   "outputs": [
    {
     "name": "stdout",
     "output_type": "stream",
     "text": [
      "New best solution with value 4265: [-1  1 -1  0 -1 -1 -1 -1 -1 -1 -1 -1 -1  1 -1 -1 -1 -1 -1 -1 -1 -1 -1 -1\n",
      " -1  1 -1 -1 -1 -1 -1  0 -1 -1 -1 -1 -1 -1 -1 -1 -1 -1 -1  0 -1 -1 -1 -1\n",
      " -1 -1 -1 -1 -1 -1 -1 -1 -1 -1 -1 -1 -1  0 -1 -1 -1  2 -1 -1 -1 -1 -1 -1\n",
      " -1 -1 -1 -1 -1 -1 -1 -1 -1 -1 -1 -1 -1 -1 -1 -1 -1 -1 -1 -1 -1 -1 -1 -1\n",
      " -1 -1 -1 -1]\n",
      "New best solution with value 14985: [-1  1 -1  0 -1 -1 -1 -1 -1 -1 -1 -1  5  1 -1 -1 -1 -1 -1 -1 -1  3  4 -1\n",
      "  7  1 -1 -1  8  1 -1 -1 -1 -1 -1 -1  9 -1 -1 -1 -1 -1 -1  0 -1  6  8 -1\n",
      "  1 -1  2 -1  5 -1 -1 -1 -1  0  9 -1 -1  0 -1 -1 -1  2 -1 -1 -1 -1 -1 -1\n",
      " -1 -1 -1 -1  6 -1 -1  2 -1  3 -1 -1 -1 -1 -1 -1 -1 -1 -1  7 -1 -1 -1 -1\n",
      " -1  4 -1 -1]\n",
      "New best solution with value 16814: [-1 -1 -1  0 -1 -1 -1 -1  7  6  8 -1 -1  5  4 -1 -1 -1  5  0 -1 -1 -1  2\n",
      "  5 -1 -1 -1 -1  0 -1  9  2 -1 -1  7 -1  0 -1  3 -1  1  3  8 -1  1 -1 -1\n",
      " -1 -1 -1 -1 -1 -1 -1 -1 -1  9 -1 -1  4 -1 -1 -1 -1 -1 -1 -1 -1 -1 -1  2\n",
      " -1  6 -1 -1 -1 -1 -1 -1  7 -1 -1 -1  9  6  0  3 -1 -1 -1 -1 -1  8 -1 -1\n",
      "  4  0  1 -1]\n",
      "New best solution with value 17619: [-1  9  2 -1 -1 -1  0  5 -1  4 -1 -1  7 -1 -1 -1 -1 -1 -1  7  6  4  3 -1\n",
      " -1 -1 -1 -1  0 -1 -1 -1 -1  0 -1  5 -1  8  7  5 -1  1 -1 -1 -1 -1  8 -1\n",
      " -1  0  9  1 -1 -1  2 -1  0 -1 -1 -1 -1 -1  3  8 -1 -1  3 -1 -1  6 -1 -1\n",
      "  2 -1 -1 -1 -1 -1  6 -1 -1 -1 -1 -1 -1 -1 -1  1 -1 -1 -1  0 -1  9 -1  2\n",
      " -1  4 -1 -1]\n"
     ]
    }
   ],
   "source": [
    "current_solution = rng.integers(-1, NUM_KNAPSACKS, size=NUM_ITEMS)  # Initialize a random solution\n",
    "current_best = evaluate_solution(current_solution)\n",
    "MAX_ITER_2= 30000\n",
    "\n",
    "for _ in range(MAX_ITER_2):\n",
    "    # Generate a random solution\n",
    "    tweak(current_solution)\n",
    "    value = evaluate_solution(current_solution)\n",
    "    if value > current_best:\n",
    "        current_best = value\n",
    "        print(f\"New best solution with value {current_best}: {current_solution}\")"
   ]
  }
 ],
 "metadata": {
  "kernelspec": {
   "display_name": "mla_env",
   "language": "python",
   "name": "python3"
  },
  "language_info": {
   "codemirror_mode": {
    "name": "ipython",
    "version": 3
   },
   "file_extension": ".py",
   "mimetype": "text/x-python",
   "name": "python",
   "nbconvert_exporter": "python",
   "pygments_lexer": "ipython3",
   "version": "3.11.13"
  }
 },
 "nbformat": 4,
 "nbformat_minor": 5
}
